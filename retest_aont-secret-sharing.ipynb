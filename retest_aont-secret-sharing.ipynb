{
 "cells": [
  {
   "cell_type": "markdown",
   "metadata": {},
   "source": [
    "データのシェア化"
   ]
  },
  {
   "cell_type": "code",
   "execution_count": 65,
   "metadata": {},
   "outputs": [],
   "source": [
    "import os\n",
    "import secrets"
   ]
  },
  {
   "cell_type": "code",
   "execution_count": 66,
   "metadata": {},
   "outputs": [],
   "source": [
    "\n",
    "def aont_transform(data: bytes) -> bytes:\n",
    "    \"\"\"AONT変換を行う簡単な関数\"\"\"\n",
    "    # ランダムキーを生成（データと同じ長さ）\n",
    "    key = secrets.token_bytes(len(data))\n",
    "    # 入力データとキーをXOR\n",
    "    transformed_data = bytes(a ^ b for a, b in zip(data, key))\n",
    "    # 変換されたデータとキーを返す\n",
    "    return transformed_data, key\n",
    "\n"
   ]
  },
  {
   "cell_type": "code",
   "execution_count": 67,
   "metadata": {},
   "outputs": [],
   "source": [
    "def split_data(data: bytes, n_shares: int) -> list:\n",
    "    \"\"\"データをn個のシェアに分割する簡単な関数\"\"\"\n",
    "    # 分割するデータの長さ\n",
    "    share_size = len(data) // n_shares\n",
    "    shares = []\n",
    "    for i in range(n_shares - 1):\n",
    "        # データをn_sharesに分割\n",
    "        shares.append(data[i*share_size:(i+1)*share_size])\n",
    "    # 最後のシェアに残りのデータを追加\n",
    "    shares.append(data[(n_shares-1)*share_size:])\n",
    "    return shares\n",
    "\n"
   ]
  },
  {
   "cell_type": "code",
   "execution_count": 68,
   "metadata": {},
   "outputs": [],
   "source": [
    "# 入力データ\n",
    "input_data = \"入社したい\"\n",
    "data_bytes = input_data.encode('utf-8')"
   ]
  },
  {
   "cell_type": "code",
   "execution_count": 69,
   "metadata": {},
   "outputs": [],
   "source": [
    "# AONT変換\n",
    "transformed_data, key = aont_transform(data_bytes)"
   ]
  },
  {
   "cell_type": "code",
   "execution_count": 70,
   "metadata": {},
   "outputs": [],
   "source": [
    "# 分割数\n",
    "n_shares = 5 #この場合は5分割"
   ]
  },
  {
   "cell_type": "code",
   "execution_count": 71,
   "metadata": {},
   "outputs": [],
   "source": [
    "# データを分割\n",
    "shares = split_data(transformed_data, n_shares)\n",
    "\n"
   ]
  },
  {
   "cell_type": "code",
   "execution_count": 72,
   "metadata": {},
   "outputs": [
    {
     "data": {
      "text/plain": [
       "(b'\\xb6F\\xc4\\x90\\x9aA\\xf0\\xc3\\x07r\\xd6\\xd8\\x1aV\\x10',\n",
       " b'S\\xc3aw>\\xff\\x13B\\x90\\x91WG\\xf9\\xd7\\x94',\n",
       " [b'\\xb6F\\xc4', b'\\x90\\x9aA', b'\\xf0\\xc3\\x07', b'r\\xd6\\xd8', b'\\x1aV\\x10'])"
      ]
     },
     "execution_count": 72,
     "metadata": {},
     "output_type": "execute_result"
    }
   ],
   "source": [
    "# 変換されたデータ、キー、シェアを返す\n",
    "(transformed_data, key, shares)"
   ]
  },
  {
   "cell_type": "markdown",
   "metadata": {},
   "source": [
    "シェアの復元"
   ]
  },
  {
   "cell_type": "code",
   "execution_count": 73,
   "metadata": {},
   "outputs": [],
   "source": [
    "def restore_data(shares: list, key: bytes) -> str:\n",
    "    \"\"\"シェアとキーから元のデータを復元する関数\"\"\"\n",
    "    # シェアを結合して変換されたデータを復元\n",
    "    combined_data = b''.join(shares)\n",
    "    # キーを使ってXOR変換を逆操作\n",
    "    original_data = bytes(a ^ b for a, b in zip(combined_data, key))\n",
    "    # バイト列を文字列にデコード\n",
    "    return original_data.decode('utf-8')"
   ]
  },
  {
   "cell_type": "code",
   "execution_count": 74,
   "metadata": {},
   "outputs": [],
   "source": [
    "# シェアとキーから元のデータを復元\n",
    "restored_data = restore_data(shares, key)"
   ]
  },
  {
   "cell_type": "code",
   "execution_count": 75,
   "metadata": {},
   "outputs": [
    {
     "data": {
      "text/plain": [
       "'入社したい'"
      ]
     },
     "execution_count": 75,
     "metadata": {},
     "output_type": "execute_result"
    }
   ],
   "source": [
    "# 復元されたデータを表示\n",
    "restored_data"
   ]
  }
 ],
 "metadata": {
  "kernelspec": {
   "display_name": "Python 3",
   "language": "python",
   "name": "python3"
  },
  "language_info": {
   "codemirror_mode": {
    "name": "ipython",
    "version": 3
   },
   "file_extension": ".py",
   "mimetype": "text/x-python",
   "name": "python",
   "nbconvert_exporter": "python",
   "pygments_lexer": "ipython3",
   "version": "3.10.13"
  }
 },
 "nbformat": 4,
 "nbformat_minor": 2
}
