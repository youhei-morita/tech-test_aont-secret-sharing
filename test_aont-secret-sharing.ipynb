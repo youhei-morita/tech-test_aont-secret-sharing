{
 "cells": [
  {
   "cell_type": "code",
   "execution_count": 10,
   "metadata": {},
   "outputs": [],
   "source": [
    "import os\n",
    "def aont_secret_split(secret_data):\n",
    "    # 秘密データの長さと同じ長さのランダムデータを生成\n",
    "    random_data = os.urandom(len(secret_data))\n",
    "    \n",
    "    # 秘密データとランダムデータをXORして変換データを生成\n",
    "    transformed_data = bytes(a ^ b for a, b in zip(secret_data, random_data))\n",
    "    \n",
    "    # 分散データとしてランダムデータと変換データを返す\n",
    "    return random_data, transformed_data"
   ]
  },
  {
   "cell_type": "code",
   "execution_count": 11,
   "metadata": {},
   "outputs": [],
   "source": [
    "# 秘密データの例\n",
    "secret_data_example = \"無事に入社したい\".encode('utf-8')  # 秘密データをバイト列にエンコード"
   ]
  },
  {
   "cell_type": "code",
   "execution_count": 12,
   "metadata": {},
   "outputs": [],
   "source": [
    "# 秘密分散処理\n",
    "random_data_example, transformed_data_example = aont_secret_split(secret_data_example)"
   ]
  },
  {
   "cell_type": "code",
   "execution_count": 13,
   "metadata": {},
   "outputs": [
    {
     "data": {
      "text/plain": [
       "(b'\\xba_\\xd8\\xd8\\xc5\\x8c\\xf0\\xa5w\\x12g\\x8d\\x1f%\\xb4\\xf6\\xe7\\xe5\\xa1V>\\xfa\\x0eF',\n",
       " b']\\xdby<\\x7f\\x07\\x13$\\xdc\\xf7\\xe2(\\xf8\\x81\\n\\x15frB\\xd7\\xa1\\x19\\x8f\\xc2')"
      ]
     },
     "execution_count": 13,
     "metadata": {},
     "output_type": "execute_result"
    }
   ],
   "source": [
    "# 分散データの確認（実際のアプリケーションではこれらの値を安全に保管・管理する必要があります）\n",
    "(random_data_example, transformed_data_example)"
   ]
  },
  {
   "cell_type": "code",
   "execution_count": 14,
   "metadata": {},
   "outputs": [
    {
     "data": {
      "text/plain": [
       "(b'\\xe7\\x84\\xa1\\xe4\\xba\\x8b\\xe3\\x81\\xab\\xe5\\x85\\xa5\\xe7\\xa4\\xbe\\xe3\\x81\\x97\\xe3\\x81\\x9f\\xe3\\x81\\x84',\n",
       " '無事に入社したい')"
      ]
     },
     "execution_count": 14,
     "metadata": {},
     "output_type": "execute_result"
    }
   ],
   "source": [
    "def aont_secret_combine(random_data, transformed_data):\n",
    "    # 変換されたデータとランダムデータをXORして元の秘密データを復元\n",
    "    original_data = bytes(a ^ b for a, b in zip(random_data, transformed_data))\n",
    "    return original_data\n",
    "\n",
    "# 復号化（秘密情報の復元）\n",
    "original_data_example = aont_secret_combine(random_data_example, transformed_data_example)\n",
    "\n",
    "# 復元された秘密データの確認\n",
    "(original_data_example, original_data_example.decode('utf-8'))"
   ]
  }
 ],
 "metadata": {
  "kernelspec": {
   "display_name": "Python 3",
   "language": "python",
   "name": "python3"
  },
  "language_info": {
   "codemirror_mode": {
    "name": "ipython",
    "version": 3
   },
   "file_extension": ".py",
   "mimetype": "text/x-python",
   "name": "python",
   "nbconvert_exporter": "python",
   "pygments_lexer": "ipython3",
   "version": "3.10.13"
  }
 },
 "nbformat": 4,
 "nbformat_minor": 2
}
